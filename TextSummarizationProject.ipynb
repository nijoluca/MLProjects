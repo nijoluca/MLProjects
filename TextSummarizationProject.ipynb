{
  "nbformat": 4,
  "nbformat_minor": 0,
  "metadata": {
    "colab": {
      "provenance": [],
      "authorship_tag": "ABX9TyPj23rs++5y5epFH62sXbcg",
      "include_colab_link": true
    },
    "kernelspec": {
      "name": "python3",
      "display_name": "Python 3"
    },
    "language_info": {
      "name": "python"
    }
  },
  "cells": [
    {
      "cell_type": "markdown",
      "metadata": {
        "id": "view-in-github",
        "colab_type": "text"
      },
      "source": [
        "<a href=\"https://colab.research.google.com/github/nijoluca/MLProjects/blob/main/TextSummarizationProject.ipynb\" target=\"_parent\"><img src=\"https://colab.research.google.com/assets/colab-badge.svg\" alt=\"Open In Colab\"/></a>"
      ]
    },
    {
      "cell_type": "code",
      "source": [
        "import nltk\n",
        "from nltk.corpus import stopwords\n",
        "from nltk.tokenize import sent_tokenize, word_tokenize\n",
        "from nltk.cluster.util import cosine_distance\n",
        "import numpy as np\n",
        "\n",
        "nltk.download('punkt')\n",
        "nltk.download('stopwords')\n",
        "\n",
        "def read_text(file_path):\n",
        "\n",
        "    with open(file_path, 'r') as file:\n",
        "        return file.read()\n",
        "\n",
        "def preprocess_text(text):\n",
        "\n",
        "    sentences = sent_tokenize(text)\n",
        "    stop_words = set(stopwords.words('english'))\n",
        "\n",
        "    preprocessed_sentences = []\n",
        "    for sentence in sentences:\n",
        "        words = word_tokenize(sentence)\n",
        "        words = [word.lower() for word in words if word.isalnum() and word.lower() not in stop_words]\n",
        "        preprocessed_sentences.append(words)\n",
        "\n",
        "    return preprocessed_sentences\n",
        "\n",
        "def sentence_similarity(sentence1, sentence2):\n",
        "\n",
        "    all_words = list(set(sentence1 + sentence2))\n",
        "    vector1 = [0] * len(all_words)\n",
        "    vector2 = [0] * len(all_words)\n",
        "\n",
        "    for word in sentence1:\n",
        "        vector1[all_words.index(word)] += 1\n",
        "\n",
        "    for word in sentence2:\n",
        "        vector2[all_words.index(word)] += 1\n",
        "\n",
        "    return 1 - cosine_distance(vector1, vector2)\n",
        "\n",
        "def build_similarity_matrix(sentences):\n",
        "\n",
        "    matrix = np.zeros((len(sentences), len(sentences)))\n",
        "\n",
        "    for i in range(len(sentences)):\n",
        "        for j in range(len(sentences)):\n",
        "            if i != j:\n",
        "                matrix[i][j] = sentence_similarity(sentences[i], sentences[j])\n",
        "\n",
        "    return matrix\n",
        "\n",
        "def generate_summary(text, num_sentences=5):\n",
        "    \"\"\"Generate a summary from the given text.\"\"\"\n",
        "    sentences = preprocess_text(text)\n",
        "    sentence_similarity_matrix = build_similarity_matrix(sentences)\n",
        "\n",
        "    # Calculate sentence scores based on similarity matrix\n",
        "    sentence_scores = np.sum(sentence_similarity_matrix, axis=1)\n",
        "\n",
        "    # Get indices of top sentences\n",
        "    top_sentence_indices = np.argsort(sentence_scores)[-num_sentences:]\n",
        "\n",
        "    # Sort indices for correct order in the summary\n",
        "    top_sentence_indices.sort()\n",
        "\n",
        "    # Generate the summary\n",
        "    summary = ' '.join([sentences[i] for i in top_sentence_indices])\n",
        "\n",
        "    return summary\n",
        "\n",
        "# Example usage:\n",
        "file_path = 'your_text_file.txt'\n",
        "text = read_text(file_path)\n",
        "summary = generate_summary(text)\n",
        "\n",
        "print(\"Original Text:\")\n",
        "print(text)\n",
        "print(\"\\nSummary:\")\n",
        "print(summary)\n"
      ],
      "metadata": {
        "colab": {
          "base_uri": "https://localhost:8080/"
        },
        "id": "SsKRNEwLn8O2",
        "outputId": "ef196036-f37c-4c8d-e036-633ca11bcec5"
      },
      "execution_count": null,
      "outputs": [
        {
          "output_type": "stream",
          "name": "stdout",
          "text": [
            "Requirement already satisfied: gensim in /usr/local/lib/python3.10/dist-packages (4.3.2)\n",
            "Requirement already satisfied: numpy>=1.18.5 in /usr/local/lib/python3.10/dist-packages (from gensim) (1.23.5)\n",
            "Requirement already satisfied: scipy>=1.7.0 in /usr/local/lib/python3.10/dist-packages (from gensim) (1.11.4)\n",
            "Requirement already satisfied: smart-open>=1.8.1 in /usr/local/lib/python3.10/dist-packages (from gensim) (6.4.0)\n"
          ]
        }
      ]
    }
  ]
}